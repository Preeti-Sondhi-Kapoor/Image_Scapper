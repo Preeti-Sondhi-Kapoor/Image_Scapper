{
 "cells": [
  {
   "cell_type": "code",
   "execution_count": 1,
   "metadata": {},
   "outputs": [],
   "source": [
    "import os\n",
    "import time\n",
    "import requests\n",
    "from selenium import webdriver"
   ]
  },
  {
   "cell_type": "code",
   "execution_count": 2,
   "metadata": {},
   "outputs": [],
   "source": [
    "# How to execute this code\n",
    "# Step 1 : pip install selenium. pillow, requests\n",
    "# Step 2 : make sure you have chrome installed on your machine\n",
    "# Step 3 : Check your chrome version ( go to three dot then help then about google chrome )\n",
    "# Step 4 : Download the same chrome driver from here  \" https://chromedriver.storage.googleapis.com/index.html \"\n",
    "# Step 5 : put it inside the same folder of this code"
   ]
  },
  {
   "cell_type": "code",
   "execution_count": 3,
   "metadata": {},
   "outputs": [],
   "source": [
    "def fetch_image_urls(query: str, max_links_to_fetch: int, wd: webdriver, sleep_between_interactions: int = 1):\n",
    "    def scroll_to_end(wd):\n",
    "        wd.execute_script(\"window.scrollTo(0, document.body.scrollHeight);\")\n",
    "        time.sleep(sleep_between_interactions)\n",
    "\n",
    "        # build the google query\n",
    "\n",
    "    search_url = \"https://www.google.com/search?safe=off&site=&tbm=isch&source=hp&q={q}&oq={q}&gs_l=img\"\n",
    "\n",
    "    # load the page\n",
    "    wd.get(search_url.format(q=query))\n",
    "\n",
    "    image_urls = set()\n",
    "    image_count = 0\n",
    "    results_start = 0\n",
    "    while image_count < max_links_to_fetch:\n",
    "        scroll_to_end(wd)\n",
    "\n",
    "        # get all image thumbnail results\n",
    "        thumbnail_results = wd.find_elements_by_css_selector(\"img.Q4LuWd\")\n",
    "        number_results = len(thumbnail_results)\n",
    "\n",
    "        print(f\"Found: {number_results} search results. Extracting links from {results_start}:{number_results}\")\n",
    "\n",
    "        for img in thumbnail_results[results_start:number_results]:\n",
    "            # try to click every thumbnail such that we can get the real image behind it\n",
    "            try:\n",
    "                img.click()\n",
    "                time.sleep(sleep_between_interactions)\n",
    "            except Exception:\n",
    "                continue\n",
    "\n",
    "            # extract image urls\n",
    "            actual_images = wd.find_elements_by_css_selector('img.n3VNCb')\n",
    "            for actual_image in actual_images:\n",
    "                if actual_image.get_attribute('src') and 'http' in actual_image.get_attribute('src'):\n",
    "                    image_urls.add(actual_image.get_attribute('src'))\n",
    "\n",
    "            image_count = len(image_urls)\n",
    "\n",
    "            if len(image_urls) >= max_links_to_fetch:\n",
    "                print(f\"Found: {len(image_urls)} image links, done!\")\n",
    "                break\n",
    "        else:\n",
    "            print(\"Found:\", len(image_urls), \"image links, looking for more ...\")\n",
    "            time.sleep(30)\n",
    "            return\n",
    "            load_more_button = wd.find_element_by_css_selector(\".mye4qd\")\n",
    "            if load_more_button:\n",
    "                wd.execute_script(\"document.querySelector('.mye4qd').click();\")\n",
    "\n",
    "        # move the result startpoint further down\n",
    "        results_start = len(thumbnail_results)\n",
    "\n",
    "    return image_urls"
   ]
  },
  {
   "cell_type": "code",
   "execution_count": 4,
   "metadata": {},
   "outputs": [],
   "source": [
    "def persist_image(folder_path:str,url:str, counter):\n",
    "    try:\n",
    "        image_content = requests.get(url).content\n",
    "\n",
    "    except Exception as e:\n",
    "        print(f\"ERROR - Could not download {url} - {e}\")\n",
    "\n",
    "    try:\n",
    "        f = open(os.path.join(folder_path, 'jpg' + \"_\" + str(counter) + \".jpg\"), 'wb')\n",
    "        f.write(image_content)\n",
    "        f.close()\n",
    "        print(f\"SUCCESS - saved {url} - as {folder_path}\")\n",
    "    except Exception as e:\n",
    "        print(f\"ERROR - Could not save {url} - {e}\")"
   ]
  },
  {
   "cell_type": "code",
   "execution_count": 5,
   "metadata": {},
   "outputs": [],
   "source": [
    "def search_and_download(search_term: str, driver_path: str, target_path='./images', number_images=10):\n",
    "    target_folder = os.path.join(target_path, '_'.join(search_term.lower().split(' '))) # make the folder name inside images with the search string\n",
    "\n",
    "    if not os.path.exists(target_folder):\n",
    "        os.makedirs(target_folder) # make directory using the target path if it doesn't exist already\n",
    "\n",
    "    with webdriver.Chrome(executable_path=driver_path) as wd:\n",
    "        res = fetch_image_urls(search_term, number_images, wd=wd, sleep_between_interactions=0.5)\n",
    "\n",
    "    counter = 0\n",
    "    for elem in res:\n",
    "        persist_image(target_folder, elem, counter)\n",
    "        counter += 1"
   ]
  },
  {
   "cell_type": "code",
   "execution_count": 8,
   "metadata": {},
   "outputs": [
    {
     "name": "stdout",
     "output_type": "stream",
     "text": [
      "Found: 200 search results. Extracting links from 0:200\n",
      "Found: 12 image links, done!\n",
      "SUCCESS - saved https://upload.wikimedia.org/wikipedia/commons/thumb/b/b3/Rusty.jpg/1200px-Rusty.jpg - as ./images\\dog\n",
      "SUCCESS - saved https://i.guim.co.uk/img/media/fe1e34da640c5c56ed16f76ce6f994fa9343d09d/0_174_3408_2046/master/3408.jpg?width=1200&height=630&quality=85&auto=format&fit=crop&overlay-align=bottom%2Cleft&overlay-width=100p&overlay-base64=L2ltZy9zdGF0aWMvb3ZlcmxheXMvdGctZGVmYXVsdC5wbmc&s=80c1382fb025839e32693176909976c9 - as ./images\\dog\n",
      "SUCCESS - saved https://encrypted-tbn0.gstatic.com/images?q=tbn%3AANd9GcT8Vbb9r4TfBmFq_p6iyMl6d45IMhB8HXXh-7ZoUmmQqwNLmBym&usqp=CAU - as ./images\\dog\n",
      "SUCCESS - saved https://post.healthline.com/wp-content/uploads/sites/3/2020/02/322868_1100-1100x628.jpg - as ./images\\dog\n",
      "SUCCESS - saved https://encrypted-tbn0.gstatic.com/images?q=tbn%3AANd9GcSvqawiBeXLlB74vLwPe-fhFxabhSbofa9MBd1YHuwAkvMbXCDK&usqp=CAU - as ./images\\dog\n",
      "SUCCESS - saved https://d17fnq9dkz9hgj.cloudfront.net/breed-uploads/2018/09/dog-landing-hero-lg.jpg?bust=1536935129&width=1080 - as ./images\\dog\n",
      "SUCCESS - saved https://hips.hearstapps.com/ghk.h-cdn.co/assets/17/30/2560x1280/landscape-1500925839-golden-retriever-puppy.jpg?resize=1200:* - as ./images\\dog\n",
      "SUCCESS - saved https://www.sciencealert.com/images/2020-03/processed/010-pomeranian_1024.jpg - as ./images\\dog\n",
      "SUCCESS - saved https://www.nationalgeographic.com/content/dam/animals/thumbs/rights-exempt/mammals/d/domestic-dog_thumb.jpg - as ./images\\dog\n",
      "SUCCESS - saved https://cdn2-www.dogtime.com/assets/uploads/2018/11/whiskers1-e1554317356301.jpg - as ./images\\dog\n",
      "SUCCESS - saved https://img.webmd.com/dtmcms/live/webmd/consumer_assets/site_images/article_thumbnails/other/dog_running_other/1800x1200_dog_running_other.jpg?resize=750px:* - as ./images\\dog\n",
      "SUCCESS - saved https://encrypted-tbn0.gstatic.com/images?q=tbn%3AANd9GcS5VOgztoNQodzqnrOu8AiJkMiHA7JVyUcUbzs_yoho34gL4jbo&usqp=CAU - as ./images\\dog\n"
     ]
    }
   ],
   "source": [
    "DRIVER_PATH = './chromedriver'\n",
    "search_term = 'Dog'\n",
    "# num of images you can pass it from here  by default it's 10 if you are not passing\n",
    "# number_images = 10\n",
    "search_and_download(search_term=search_term, driver_path=DRIVER_PATH) # method to download images"
   ]
  },
  {
   "cell_type": "code",
   "execution_count": null,
   "metadata": {},
   "outputs": [],
   "source": []
  }
 ],
 "metadata": {
  "kernelspec": {
   "display_name": "Python 3",
   "language": "python",
   "name": "python3"
  },
  "language_info": {
   "codemirror_mode": {
    "name": "ipython",
    "version": 3
   },
   "file_extension": ".py",
   "mimetype": "text/x-python",
   "name": "python",
   "nbconvert_exporter": "python",
   "pygments_lexer": "ipython3",
   "version": "3.7.3"
  }
 },
 "nbformat": 4,
 "nbformat_minor": 2
}
